{
 "cells": [
  {
   "cell_type": "markdown",
   "id": "b2e049c7-d5db-45e6-b651-2601c02f4b7d",
   "metadata": {},
   "source": [
    "## Data organisation example - IDRiD"
   ]
  },
  {
   "cell_type": "code",
   "execution_count": 34,
   "id": "16b65740-249b-4eef-9298-1db01f72d050",
   "metadata": {},
   "outputs": [],
   "source": [
    "import os\n",
    "import shutil\n",
    "import pickle\n",
    "import numpy as np\n",
    "import pandas as pd\n",
    "from sklearn.model_selection import train_test_split\n",
    "\n",
    "# replace with your own data path to save IDRiD datasets\n",
    "DATAPATH = './datasets/IDRiD/B_Disease_Grading/1__Original_Images/'"
   ]
  },
  {
   "cell_type": "markdown",
   "id": "b12bad44",
   "metadata": {},
   "source": []
  },
  {
   "attachments": {},
   "cell_type": "markdown",
   "id": "ff0bf26e-c657-49de-8761-89d5a94c390d",
   "metadata": {},
   "source": [
    "### Split val set from train data\n",
    "- Download dataset from [official website](https://ieee-dataport.org/open-access/indian-diabetic-retinopathy-image-dataset-idrid) "
   ]
  },
  {
   "cell_type": "code",
   "execution_count": 35,
   "id": "4bc1cb67-0adf-4640-8640-d0740a39366b",
   "metadata": {},
   "outputs": [],
   "source": [
    "list_ = pd.read_csv('a__IDRiD_Disease_Grading_Training_Labels_csv')"
   ]
  },
  {
   "cell_type": "code",
   "execution_count": 36,
   "id": "b85fc0d1-2049-4550-bdec-76240b1bc759",
   "metadata": {},
   "outputs": [],
   "source": [
    "noDR = list_.loc[list_['Retinopathy grade']==0, 'Image name']\n",
    "mildDR = list_.loc[list_['Retinopathy grade']==1, 'Image name']\n",
    "moderateDR = list_.loc[list_['Retinopathy grade']==2, 'Image name']\n",
    "severeDR = list_.loc[list_['Retinopathy grade']==3, 'Image name']\n",
    "proDR = list_.loc[list_['Retinopathy grade']==4, 'Image name']"
   ]
  },
  {
   "cell_type": "code",
   "execution_count": 37,
   "id": "d0617e35-8b91-45d3-90d5-d5e5bf2d7762",
   "metadata": {},
   "outputs": [],
   "source": [
    "noDR_train, noDR_val = train_test_split(noDR, test_size=0.2,random_state=1)\n",
    "mildDR_train, mildDR_val = train_test_split(mildDR, test_size=0.2,random_state=1)\n",
    "moderateDR_train, moderateDR_val = train_test_split(moderateDR, test_size=0.2,random_state=1)\n",
    "severeDR_train, severeDR_val = train_test_split(severeDR, test_size=0.2,random_state=1)\n",
    "proDR_train, proDR_val = train_test_split(proDR, test_size=0.2,random_state=1)\n"
   ]
  },
  {
   "cell_type": "code",
   "execution_count": 38,
   "id": "f30ce03f-5730-4e68-b6c5-8e1b6b9167f8",
   "metadata": {},
   "outputs": [
    {
     "name": "stdout",
     "output_type": "stream",
     "text": [
      "{'img_root': './datasets/IDRiD/B_Disease_Grading/1__Original_Images/a__Training_Set\\\\IDRiD_178.jpg', 'label': 4}\n"
     ]
    }
   ],
   "source": [
    "train_list = [noDR_train, mildDR_train, moderateDR_train, severeDR_train, proDR_train]\n",
    "for idx, disease in enumerate(train_list):\n",
    "    data = [{'img_root': os.path.join(DATAPATH, 'a__Training_Set', value+'.jpg'), 'label': idx} for value in disease]\n",
    "print(data[0])\n",
    "save_path = 'data/IDRiD'\n",
    "os.makedirs(save_path, exist_ok=True)\n",
    "with open(os.path.join(save_path, 'train.pkl') , 'wb') as file:\n",
    "    pickle.dump(np.array(data), file)"
   ]
  },
  {
   "cell_type": "code",
   "execution_count": 39,
   "id": "196d1845-3e5e-4d38-82e5-66057a693962",
   "metadata": {},
   "outputs": [
    {
     "name": "stdout",
     "output_type": "stream",
     "text": [
      "{'img_root': './datasets/IDRiD/B_Disease_Grading/1__Original_Images/a__Training_Set\\\\IDRiD_100.jpg', 'label': 4}\n"
     ]
    }
   ],
   "source": [
    "val_list = [noDR_val, mildDR_val, moderateDR_val, severeDR_val, proDR_val]\n",
    "for idx, disease in enumerate(val_list):\n",
    "    data = [{'img_root': os.path.join(DATAPATH, 'a__Training_Set', value+'.jpg'), 'label': idx} for value in disease]\n",
    "print(data[0])\n",
    "with open(os.path.join(save_path, 'val.pkl') , 'wb') as file:\n",
    "    pickle.dump(np.array(data), file)"
   ]
  },
  {
   "cell_type": "markdown",
   "id": "faf285f4-9079-49ca-9d99-8f3f5718afbf",
   "metadata": {},
   "source": [
    "### Organise test set"
   ]
  },
  {
   "cell_type": "code",
   "execution_count": 40,
   "id": "118d15d0-9e94-4f6e-855d-dfa3796b24d2",
   "metadata": {},
   "outputs": [],
   "source": [
    "list_test = pd.read_csv('b__IDRiD_Disease_Grading_Testing_Labels_csv')"
   ]
  },
  {
   "cell_type": "code",
   "execution_count": 41,
   "id": "89a098fe-0aad-41d4-ab09-476ff0354c77",
   "metadata": {},
   "outputs": [],
   "source": [
    "noDR_test = list_test.loc[list_test['Retinopathy grade']==0, 'Image name']\n",
    "mildDR_test = list_test.loc[list_test['Retinopathy grade']==1, 'Image name']\n",
    "moderateDR_test = list_test.loc[list_test['Retinopathy grade']==2, 'Image name']\n",
    "severeDR_test = list_test.loc[list_test['Retinopathy grade']==3, 'Image name']\n",
    "proDR_test = list_test.loc[list_test['Retinopathy grade']==4, 'Image name']"
   ]
  },
  {
   "cell_type": "code",
   "execution_count": 42,
   "id": "33a207c1-1fef-4e79-8ff2-84329062495b",
   "metadata": {},
   "outputs": [
    {
     "name": "stdout",
     "output_type": "stream",
     "text": [
      "{'img_root': './datasets/IDRiD/B_Disease_Grading/1__Original_Images/b__Testing_Set\\\\IDRiD_001.jpg', 'label': 4}\n"
     ]
    }
   ],
   "source": [
    "test_list = [noDR_test, mildDR_test, moderateDR_test, severeDR_test, proDR_test]\n",
    "for idx, disease in enumerate(test_list):\n",
    "    data = [{'img_root': os.path.join(DATAPATH, 'b__Testing_Set', value+'.jpg'), 'label': idx} for value in disease]\n",
    "print(data[0])\n",
    "with open(os.path.join(save_path, 'test.pkl') , 'wb') as file:\n",
    "    pickle.dump(np.array(data), file)"
   ]
  }
 ],
 "metadata": {
  "environment": {
   "kernel": "python3",
   "name": "common-cu110.m91",
   "type": "gcloud",
   "uri": "gcr.io/deeplearning-platform-release/base-cu110:m91"
  },
  "kernelspec": {
   "display_name": "Python 3",
   "language": "python",
   "name": "python3"
  },
  "language_info": {
   "codemirror_mode": {
    "name": "ipython",
    "version": 3
   },
   "file_extension": ".py",
   "mimetype": "text/x-python",
   "name": "python",
   "nbconvert_exporter": "python",
   "pygments_lexer": "ipython3",
   "version": "3.8.16"
  }
 },
 "nbformat": 4,
 "nbformat_minor": 5
}
